{
 "cells": [
  {
   "cell_type": "code",
   "execution_count": 1,
   "id": "d11015e9",
   "metadata": {},
   "outputs": [],
   "source": [
    "import h5py\n",
    "import numpy as np\n",
    "import matplotlib.pyplot as plt\n",
    "import pandas as pd\n",
    "from scipy import interpolate\n",
    "from scipy.stats import skew\n",
    "from scipy.signal import savgol_filter\n",
    "from scipy.interpolate import interp1d"
   ]
  },
  {
   "cell_type": "code",
   "execution_count": 2,
   "id": "79933d51",
   "metadata": {},
   "outputs": [],
   "source": [
    "def max_tp(waveform):\n",
    "    tp100 = np.argmax(waveform)\n",
    "    return tp100\n",
    "\n",
    "def tp(waveform, percent):\n",
    "    tp0 = int(waveform[0])\n",
    "    waveform = waveform[1:]\n",
    "    tp100 = max_tp(waveform)\n",
    "    tp100_val = waveform[tp100]\n",
    "    tp_val = waveform[tp0] + (tp100_val * percent)\n",
    "    tp = np.argmin(np.abs(waveform[tp0:] - tp_val))\n",
    "    tp = tp + tp0\n",
    "    return tp\n",
    "\n",
    "def LQ80(waveform):\n",
    "    tp80 = tp(waveform, .8)\n",
    "    threshold = waveform[tp80]\n",
    "    crossing_index = np.where(waveform >= threshold)[0][-1]\n",
    "    charge_after_80 = np.sum(waveform[crossing_index:])\n",
    "    return charge_after_80\n",
    "\n",
    "def area_growth_rate(waveform):\n",
    "    tp80 = tp(waveform, .8)\n",
    "    threshold = waveform[tp80]\n",
    "    crossing_index = np.where(waveform >= threshold)[0][0]\n",
    "    window_start = crossing_index\n",
    "    window_end = np.argmax(waveform)\n",
    "\n",
    "    actual_area = np.sum(waveform[window_start:window_end+1])\n",
    "    average_tail = np.linspace(waveform[window_start], waveform[window_end], window_end - window_start + 1)\n",
    "    average_area = np.sum(average_tail)\n",
    "\n",
    "    AGR = actual_area - average_area\n",
    "    return AGR\n",
    "\n",
    "def inflection_points(waveform):\n",
    "    tp100 = max_tp(waveform[1:])\n",
    "    tp80 = tp(waveform, .8)\n",
    "    threshold = waveform[tp80]\n",
    "    waveform = waveform[1:]\n",
    "    crossing_index = np.where(waveform >= threshold)[0][0]\n",
    "    LQ80 = waveform[crossing_index:tp100]\n",
    "    if len(LQ80) < 2:\n",
    "        return 0\n",
    "    num = tp100 - crossing_index\n",
    "    x = crossing_index + np.arange(1, num + 1)\n",
    "    second = np.gradient(np.gradient(LQ80))\n",
    "    #second = np.gradient(np.gradient(LQ80)) == 0\n",
    "    sign_changes = np.diff(np.sign(second))\n",
    "    inflection_points = np.where((sign_changes == 2) | (sign_changes == -2))[0]\n",
    "    return len(inflection_points)\n",
    "\n",
    "def window_data(waveform):\n",
    "    start_index = int(row[0])       # First element is the index\n",
    "    timeseries = row[1:]            # Remaining elements are the timeseries\n",
    "    return timeseries[start_index:] \n",
    "#inflection_points(waveform)"
   ]
  },
  {
   "cell_type": "code",
   "execution_count": 3,
   "id": "15ce6ef7",
   "metadata": {},
   "outputs": [],
   "source": [
    "from scipy.stats import linregress\n",
    "\n",
    "def rising_edge_slope(waveform):\n",
    "    tp0 = int(waveform[0])\n",
    "    tp100 = max_tp(waveform[1:])\n",
    "    \n",
    "    waveform = waveform[1:]\n",
    "    time = np.arange(len(waveform[tp0:tp100]))\n",
    "    data = waveform[tp0:tp100]\n",
    "    if len(data) == 0:\n",
    "        return np.nan\n",
    "    slope, intercept, r_value, p_value, std_err = linregress(time, data)\n",
    "    trend_line = intercept + slope * time\n",
    "    return slope\n",
    "\n",
    "def get_tdrift50(waveform, start_idx = 1000):\n",
    "\n",
    "    # Find the index of the peak value\n",
    "    max_idx = np.argmax(waveform)\n",
    "\n",
    "    # Calculate the middle y-value (50%) between start and max\n",
    "    start_y = waveform[start_idx]\n",
    "    max_y = waveform[max_idx]\n",
    "    mid_y = (start_y + max_y) / 2\n",
    "\n",
    "    # Find the x-value (index) where the waveform crosses the middle y-value\n",
    "    mid_x_idx = start_idx + np.argmax(idx_waveform[start_idx:max_idx] >= mid_y)\n",
    "\n",
    "    tdrift50 = mid_x_idx - start_idx \n",
    "\n",
    "    print(f\" Start X value: {start_idx}\\n\",f\"50% X value: {mid_x_idx}\\n\",f\"tdrift50: {tdrift50}\\n\")\n",
    "\n",
    "    return int(tdrift50)\n",
    "\n",
    "def find_dcr(waveform):\n",
    "\n",
    "    # Find peak index value\n",
    "    peak_idx = np.argmax(waveform[1:])\n",
    "\n",
    "    # Find peak value\n",
    "    peak_val = int(waveform[peak_idx])\n",
    "\n",
    "    # We are only looking at the data after the peak\n",
    "    data_after_peak = waveform[peak_idx:]\n",
    "\n",
    "    # Get all time indices between peak and end of the time series\n",
    "    time_indices = np.arange(peak_idx, len(waveform))\n",
    "\n",
    "    # Calculate DCR region\n",
    "    area_above_tail_slope = np.trapezoid(peak_val - data_after_peak, x=time_indices) \n",
    "    \n",
    "    return area_above_tail_slope\n",
    "\n",
    "def normalized_fourier(waveform):\n",
    "    tp0 = int(waveform[0])\n",
    "    waveform = waveform[1:]\n",
    "    peak = np.argmax(waveform)\n",
    "    frq = np.fft.fftfreq(len(waveform[tp0:peak]), d=1)\n",
    "    magnitude = np.abs(np.fft.fft(waveform[tp0:peak]))\n",
    "    normalized_fft = magnitude / np.max(magnitude)\n",
    "    return normalized_fft, frq\n",
    "\n",
    "def sum_of_gaussians(frq, a1, mu1, sigma1, a2, mu2, sigma2):\n",
    "    return (a1 * np.exp(-0.5 * ((frq - mu1) / sigma1) ** 2) +\n",
    "            a2 * np.exp(-0.5 * ((frq - mu2) / sigma2) ** 2))\n",
    "\n",
    "def lfpr(frq_waveform,threshold=0.05):\n",
    "    power_spectrum = np.abs(frq_waveform)**2\n",
    "    low_frequency_power = np.sum(power_spectrum[frq_waveform < threshold])\n",
    "    return low_frequency_power / np.sum(power_spectrum)\n",
    "\n",
    "def rsa(waveform):\n",
    "    tp0 = int(waveform[0])\n",
    "    waveform = waveform[1:]\n",
    "    x = np.arange(waveform.shape[0])\n",
    "    end = np.where(waveform == np.max(waveform))[0][0]\n",
    "    interp_range = np.arange(tp0, end + 1, 1)\n",
    "    interp = interpolate.interp1d(x, waveform, kind = 'linear')\n",
    "    interp_vals = interp(interp_range)\n",
    "    skewness = skew(interp_vals)\n",
    "    return(skewness)\n",
    "\n",
    "def tdrift(waveform, tp0):\n",
    "    peak = np.argmax(waveform)\n",
    "    tdrift = (peak-tp0) * 0.999\n",
    "    tdrift50 = (peak-tp0) * 0.5\n",
    "    tdrift10 = (peak-tp0) * 0.1\n",
    "    return tdrift, tdrift50, tdrift10\n",
    "\n",
    "\n",
    "def current_amplitude(waveform):\n",
    "    window_size = 101  \n",
    "    poly_order = 3 \n",
    "    x = np.arange(len(waveform))\n",
    "    interp_func = interp1d(x, waveform, kind='cubic')  \n",
    "    x_interp = np.linspace(0, len(waveform) - 1, len(waveform) * 10)  \n",
    "    y_interp = interp_func(x_interp)\n",
    "    \n",
    "    \n",
    "    y_interp = y_interp / np.max(np.abs(y_interp))\n",
    "    \n",
    "    # Savitzky-Golay filter \n",
    "    derivative = savgol_filter(y_interp, window_size, poly_order, deriv=1)\n",
    "    \n",
    "    # Find the maximum current amplitude\n",
    "    max_amplitude = np.max(np.abs(derivative))\n",
    "    \n",
    "    return max_amplitude"
   ]
  },
  {
   "cell_type": "code",
   "execution_count": 4,
   "id": "e306169c",
   "metadata": {},
   "outputs": [],
   "source": [
    "file_path = 'data/MJD_Test_1.hdf5'"
   ]
  },
  {
   "cell_type": "code",
   "execution_count": 5,
   "id": "3cbdbdb3",
   "metadata": {},
   "outputs": [],
   "source": [
    "with h5py.File(file_path, 'r') as file:\n",
    "    data = np.array(file['raw_waveform'])\n",
    "    tp0 = np.array(file['tp0'])\n",
    "    tp0 = tp0[:, np.newaxis]\n",
    "    data_LQ80 = np.hstack((tp0, data))"
   ]
  },
  {
   "cell_type": "code",
   "execution_count": 6,
   "id": "71e0d316",
   "metadata": {},
   "outputs": [],
   "source": [
    "LQ80 = np.array([LQ80(x) for x in data_LQ80])\n",
    "AGR = np.array([area_growth_rate(x) for x in data])\n",
    "IP = np.array([inflection_points(x) for x in data_LQ80])"
   ]
  },
  {
   "cell_type": "code",
   "execution_count": 7,
   "id": "bef1f422",
   "metadata": {},
   "outputs": [],
   "source": [
    "RE = np.array([rising_edge_slope(x) for x in data_LQ80])"
   ]
  },
  {
   "cell_type": "code",
   "execution_count": 8,
   "id": "2a9dc9f3",
   "metadata": {},
   "outputs": [
    {
     "name": "stderr",
     "output_type": "stream",
     "text": [
      "C:\\Users\\rtdoh\\anaconda3\\Lib\\site-packages\\scipy\\stats\\_stats_py.py:1304: RuntimeWarning: Mean of empty slice.\n",
      "  mean = a.mean(axis, keepdims=True)\n",
      "C:\\Users\\rtdoh\\anaconda3\\Lib\\site-packages\\numpy\\core\\_methods.py:184: RuntimeWarning: invalid value encountered in divide\n",
      "  ret = um.true_divide(\n",
      "C:\\Users\\rtdoh\\anaconda3\\Lib\\site-packages\\numpy\\core\\fromnumeric.py:3464: RuntimeWarning: Mean of empty slice.\n",
      "  return _methods._mean(a, axis=axis, dtype=dtype,\n",
      "C:\\Users\\rtdoh\\anaconda3\\Lib\\site-packages\\numpy\\core\\_methods.py:192: RuntimeWarning: invalid value encountered in scalar divide\n",
      "  ret = ret.dtype.type(ret / rcount)\n"
     ]
    }
   ],
   "source": [
    "rsa = np.array([rsa(x) for x in data_LQ80])  "
   ]
  },
  {
   "cell_type": "code",
   "execution_count": 9,
   "id": "44934c3a",
   "metadata": {},
   "outputs": [],
   "source": [
    "tp10 = np.array([tp(x, .1) for x in data_LQ80])  \n",
    "tp50 = np.array([tp(x, .5) for x in data_LQ80])  \n",
    "tp100 = np.array([max_tp(x) for x in data])"
   ]
  },
  {
   "cell_type": "code",
   "execution_count": 10,
   "id": "235678de",
   "metadata": {},
   "outputs": [],
   "source": [
    "CA = np.array([current_amplitude(x) for x in data]) "
   ]
  },
  {
   "cell_type": "code",
   "execution_count": null,
   "id": "73f9d191",
   "metadata": {},
   "outputs": [],
   "source": [
    "fourier"
   ]
  },
  {
   "cell_type": "code",
   "execution_count": 11,
   "id": "4e2d5263",
   "metadata": {},
   "outputs": [],
   "source": [
    "#lfpr = np.array([lfpr(x) for x in data_LQ80])"
   ]
  },
  {
   "cell_type": "code",
   "execution_count": 10,
   "id": "edb4640d",
   "metadata": {},
   "outputs": [],
   "source": [
    "fourier = []\n",
    "for i in range(len(data_LQ80)):\n",
    "        fourier.append(normalized_fourier(data_LQ80[i]))"
   ]
  },
  {
   "cell_type": "code",
   "execution_count": 11,
   "id": "4c23c7ef",
   "metadata": {},
   "outputs": [],
   "source": [
    "df = pd.DataFrame({\n",
    "    'LQ80': LQ80,\n",
    "    'area_growth_Rate': AGR,\n",
    "    'inflection_points': IP,\n",
    "    'rising_edge_slope': RE,\n",
    "    'rising_edge_assymetry': rsa,\n",
    "    'current_amplitude': CA,\n",
    "    'tp10': tp10,\n",
    "    'tp50': tp50,\n",
    "    'tp100': tp100\n",
    "})"
   ]
  },
  {
   "cell_type": "code",
   "execution_count": 14,
   "id": "dfde39cb",
   "metadata": {},
   "outputs": [],
   "source": [
    "df.to_csv(\"first_file.csv\", index=False)"
   ]
  },
  {
   "cell_type": "markdown",
   "id": "fc6a5568",
   "metadata": {},
   "source": [
    "for i in range(len(data_LQ80)):\n",
    "    print(i)\n",
    "    rising_edge_slope(data_LQ80[i])"
   ]
  },
  {
   "cell_type": "code",
   "execution_count": 66,
   "id": "1c61b297",
   "metadata": {},
   "outputs": [
    {
     "name": "stderr",
     "output_type": "stream",
     "text": [
      "No artists with labels found to put in legend.  Note that artists whose label start with an underscore are ignored when legend() is called with no argument.\n"
     ]
    },
    {
     "data": {
      "image/png": "[encoded data removed]",
      "text/plain": [
       "<Figure size 640x480 with 1 Axes>"
      ]
     },
     "metadata": {},
     "output_type": "display_data"
    }
   ],
   "source": [
    "time = np.linspace(0, 1, len(waveform))\n",
    "plt.plot(waveform)\n",
    "plt.title(\"Time Series Plot\")\n",
    "plt.xlabel(\"Date\")\n",
    "plt.ylabel(\"Value\")\n",
    "plt.legend()\n",
    "plt.show()"
   ]
  },
  {
   "cell_type": "code",
   "execution_count": null,
   "id": "725a264b",
   "metadata": {},
   "outputs": [],
   "source": []
  }
 ],
 "metadata": {
  "kernelspec": {
   "display_name": "Python 3 (ipykernel)",
   "language": "python",
   "name": "python3"
  },
  "language_info": {
   "codemirror_mode": {
    "name": "ipython",
    "version": 3
   },
   "file_extension": ".py",
   "mimetype": "text/x-python",
   "name": "python",
   "nbconvert_exporter": "python",
   "pygments_lexer": "ipython3",
   "version": "3.11.3"
  }
 },
 "nbformat": 4,
 "nbformat_minor": 5
}
